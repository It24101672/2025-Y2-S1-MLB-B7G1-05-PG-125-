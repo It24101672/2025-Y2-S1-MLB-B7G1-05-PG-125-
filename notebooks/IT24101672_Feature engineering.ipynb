{
 "cells": [
  {
   "cell_type": "code",
   "execution_count": 4,
   "id": "98c7e304-cce1-4c24-96d5-0d616a0f4ad1",
   "metadata": {},
   "outputs": [],
   "source": [
    "# Import necessary libraries\n",
    "import pandas as pd \n",
    "import numpy as np  \n",
    "import seaborn as sns  \n",
    "import matplotlib.pyplot as plt  \n",
    "\n",
    "from sklearn.decomposition import PCA"
   ]
  },
  {
   "cell_type": "code",
   "execution_count": 8,
   "id": "51071165-7fc8-496e-98a1-eeb6bf699d67",
   "metadata": {},
   "outputs": [
    {
     "data": {
      "text/html": [
       "<div>\n",
       "<style scoped>\n",
       "    .dataframe tbody tr th:only-of-type {\n",
       "        vertical-align: middle;\n",
       "    }\n",
       "\n",
       "    .dataframe tbody tr th {\n",
       "        vertical-align: top;\n",
       "    }\n",
       "\n",
       "    .dataframe thead th {\n",
       "        text-align: right;\n",
       "    }\n",
       "</style>\n",
       "<table border=\"1\" class=\"dataframe\">\n",
       "  <thead>\n",
       "    <tr style=\"text-align: right;\">\n",
       "      <th></th>\n",
       "      <th>Gender</th>\n",
       "      <th>PurchasedVIP</th>\n",
       "      <th>Income</th>\n",
       "      <th>Children</th>\n",
       "      <th>Age</th>\n",
       "      <th>Attractiveness</th>\n",
       "      <th>Matches</th>\n",
       "    </tr>\n",
       "  </thead>\n",
       "  <tbody>\n",
       "    <tr>\n",
       "      <th>0</th>\n",
       "      <td>0</td>\n",
       "      <td>1</td>\n",
       "      <td>51777</td>\n",
       "      <td>3</td>\n",
       "      <td>47</td>\n",
       "      <td>5</td>\n",
       "      <td>70</td>\n",
       "    </tr>\n",
       "    <tr>\n",
       "      <th>1</th>\n",
       "      <td>1</td>\n",
       "      <td>0</td>\n",
       "      <td>36646</td>\n",
       "      <td>0</td>\n",
       "      <td>42</td>\n",
       "      <td>7</td>\n",
       "      <td>130</td>\n",
       "    </tr>\n",
       "    <tr>\n",
       "      <th>2</th>\n",
       "      <td>0</td>\n",
       "      <td>0</td>\n",
       "      <td>53801</td>\n",
       "      <td>1</td>\n",
       "      <td>25</td>\n",
       "      <td>5</td>\n",
       "      <td>0</td>\n",
       "    </tr>\n",
       "    <tr>\n",
       "      <th>3</th>\n",
       "      <td>0</td>\n",
       "      <td>0</td>\n",
       "      <td>56105</td>\n",
       "      <td>0</td>\n",
       "      <td>35</td>\n",
       "      <td>8</td>\n",
       "      <td>0</td>\n",
       "    </tr>\n",
       "    <tr>\n",
       "      <th>4</th>\n",
       "      <td>0</td>\n",
       "      <td>0</td>\n",
       "      <td>55597</td>\n",
       "      <td>1</td>\n",
       "      <td>36</td>\n",
       "      <td>6</td>\n",
       "      <td>0</td>\n",
       "    </tr>\n",
       "  </tbody>\n",
       "</table>\n",
       "</div>"
      ],
      "text/plain": [
       "   Gender  PurchasedVIP  Income  Children  Age  Attractiveness  Matches\n",
       "0       0             1   51777         3   47               5       70\n",
       "1       1             0   36646         0   42               7      130\n",
       "2       0             0   53801         1   25               5        0\n",
       "3       0             0   56105         0   35               8        0\n",
       "4       0             0   55597         1   36               6        0"
      ]
     },
     "execution_count": 8,
     "metadata": {},
     "output_type": "execute_result"
    }
   ],
   "source": [
    "url =\"https://raw.githubusercontent.com/kaveeshaadithya03/AIML/refs/heads/main/Online_Dating_Behavior_Dataset.csv\"\n",
    "data = pd.read_csv(url, encoding='latin-1')\n",
    "df = pd.DataFrame(data)\n",
    "data.head()"
   ]
  },
  {
   "cell_type": "code",
   "execution_count": 10,
   "id": "b5b7d509-572c-49f8-9f4c-f9827d1a956b",
   "metadata": {},
   "outputs": [
    {
     "name": "stdout",
     "output_type": "stream",
     "text": [
      "[[ 7.88553059e+02 -6.18746377e+00]\n",
      " [-1.43424448e+04  5.44499304e+01]\n",
      " [ 2.81254988e+03 -7.60816918e+01]\n",
      " ...\n",
      " [-1.35944499e+03  4.38889403e+01]\n",
      " [-5.28244485e+03  6.42778263e+01]\n",
      " [-7.91344970e+03 -7.58497145e+01]]\n"
     ]
    },
    {
     "data": {
      "image/png": "[encoded data removed]",
      "text/plain": [
       "<Figure size 1000x600 with 1 Axes>"
      ]
     },
     "metadata": {},
     "output_type": "display_data"
    }
   ],
   "source": [
    "#preprocessing part\n",
    "# ensure all data is numeric for PCA\n",
    "numeric_df = df.select_dtypes(include=[np.number])\n",
    "\n",
    "pca = PCA(n_components=2)\n",
    "df_pca = pca.fit_transform(numeric_df)\n",
    "\n",
    "print(df_pca)\n",
    "#visualization part\n",
    "features =numeric_df.columns.tolist()\n",
    "importances = np.abs(pca.components_).mean(axis=0)\n",
    "\n",
    "plt.figure(figsize=(10,6))\n",
    "sns.barplot(x=features, y=importances)\n",
    "plt.title('Feature Importance (Principal Components)')\n",
    "plt.show()"
   ]
  },
  {
   "cell_type": "code",
   "execution_count": null,
   "id": "885d48ed-75d0-4103-8693-1889e7b434c9",
   "metadata": {},
   "outputs": [],
   "source": []
  }
 ],
 "metadata": {
  "kernelspec": {
   "display_name": "Python [conda env:base] *",
   "language": "python",
   "name": "conda-base-py"
  },
  "language_info": {
   "codemirror_mode": {
    "name": "ipython",
    "version": 3
   },
   "file_extension": ".py",
   "mimetype": "text/x-python",
   "name": "python",
   "nbconvert_exporter": "python",
   "pygments_lexer": "ipython3",
   "version": "3.12.7"
  }
 },
 "nbformat": 4,
 "nbformat_minor": 5
}
