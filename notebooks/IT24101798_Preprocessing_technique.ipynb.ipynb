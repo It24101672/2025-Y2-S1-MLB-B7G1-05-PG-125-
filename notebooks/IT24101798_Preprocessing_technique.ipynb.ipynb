{
  "nbformat": 4,
  "nbformat_minor": 0,
  "metadata": {
    "colab": {
      "provenance": []
    },
    "kernelspec": {
      "name": "python3",
      "display_name": "Python 3"
    },
    "language_info": {
      "name": "python"
    }
  },
  "cells": [
    {
      "cell_type": "code",
      "execution_count": null,
      "metadata": {
        "id": "fpLJFZzI9qYV"
      },
      "outputs": [],
      "source": [
        "# Apply VarianceThreshold\n",
        "selector = VarianceThreshold(threshold=0.1)\n",
        "df_selected_array = selector.fit_transform(df)\n",
        "\n",
        "# Get selected feature names\n",
        "selected_columns = df.columns[selector.get_support()]     # method returns boolean array use true or false indicate features\n",
        "df_selected = pd.DataFrame(df_selected_array, columns=selected_columns) # create new data frame for selected features\n",
        "\n",
        "print(\"Selected features after VarianceThreshold:\")\n",
        "print(df_selected.head())\n",
        "\n",
        "# Create histogram for Salary distribution (using df_selected, no outliers removed)\n",
        "plt.figure(figsize=(10,6))\n",
        "sns.histplot(df_selected['Income'], kde=True)\n",
        "plt.title('Salary Distribution')\n",
        "plt.xlabel('Salary')\n",
        "plt.ylabel('Frequency')\n",
        "plt.show()"
      ]
    }
  ]
}